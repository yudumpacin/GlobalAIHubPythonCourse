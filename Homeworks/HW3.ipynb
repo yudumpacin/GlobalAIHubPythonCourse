{
  "nbformat": 4,
  "nbformat_minor": 0,
  "metadata": {
    "colab": {
      "name": "HW3.ipynb",
      "provenance": [],
      "collapsed_sections": []
    },
    "kernelspec": {
      "name": "python3",
      "display_name": "Python 3"
    },
    "language_info": {
      "name": "python"
    }
  },
  "cells": [
    {
      "cell_type": "markdown",
      "metadata": {
        "id": "iLddjbdHIgVC"
      },
      "source": [
        "## Course Grade Application"
      ]
    },
    {
      "cell_type": "code",
      "metadata": {
        "colab": {
          "base_uri": "https://localhost:8080/"
        },
        "id": "i0qqe8cGIljd",
        "outputId": "4fe5f5e3-63ec-446c-f22b-b4a52b64875f"
      },
      "source": [
        "students = {} #create a dictionary that keeps student information\n",
        "for i in range(1,6):\n",
        "  studentsGrades = input(\"Enter student{}'s midterm grade-project grade-final grades: \".format(i)) #takes all student grade information in one line\n",
        "  if \"-\" not in studentsGrades:\n",
        "    print(\"Please seperate grades with - symbol seperated\")\n",
        "    break\n",
        "  for j in grades:\n",
        "    if not j.isdigit():\n",
        "      print(\"Please enter grade as digits\")\n",
        "      break\n",
        "  [m,p,f]= studentsGrades.split(\"-\")  #split midterm,project,final grades\n",
        "  [m,p,f] = [float(x) for x in [m,p,f]] #convert input grades to float for each student\n",
        "  print(m,p,f)\n",
        "  passing_grade = m*0.3+p*0.3+f*0.4     # calculate passing grade\n",
        "  students[i] = [m,p,f,passing_grade]  # transfer grades to list\n",
        "  students\n",
        "sorted(students.items(), key=lambda kv: kv[1][3], reverse = True) #sort students by passing grade asc, highest grade will be in first index, lowest will be last\n"
      ],
      "execution_count": 106,
      "outputs": [
        {
          "output_type": "stream",
          "text": [
            "Enter student1's midterm grade-project grade-final grades: 32-12-32\n",
            "32.0 12.0 32.0\n",
            "Enter student2's midterm grade-project grade-final grades: 67-53-23\n",
            "67.0 53.0 23.0\n",
            "Enter student3's midterm grade-project grade-final grades: 90-90-90\n",
            "90.0 90.0 90.0\n",
            "Enter student4's midterm grade-project grade-final grades: 43-12-43\n",
            "43.0 12.0 43.0\n",
            "Enter student5's midterm grade-project grade-final grades: 0-0-3\n",
            "0.0 0.0 3.0\n"
          ],
          "name": "stdout"
        },
        {
          "output_type": "execute_result",
          "data": {
            "text/plain": [
              "[(3, [90.0, 90.0, 90.0, 90.0]),\n",
              " (2, [67.0, 53.0, 23.0, 45.2]),\n",
              " (4, [43.0, 12.0, 43.0, 33.7]),\n",
              " (1, [32.0, 12.0, 32.0, 26.0]),\n",
              " (5, [0.0, 0.0, 3.0, 1.2000000000000002])]"
            ]
          },
          "metadata": {
            "tags": []
          },
          "execution_count": 106
        }
      ]
    }
  ]
}