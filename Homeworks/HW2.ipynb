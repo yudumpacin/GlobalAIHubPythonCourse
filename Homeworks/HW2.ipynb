{
  "nbformat": 4,
  "nbformat_minor": 0,
  "metadata": {
    "colab": {
      "name": "HW2.ipynb",
      "provenance": []
    },
    "kernelspec": {
      "name": "python3",
      "display_name": "Python 3"
    },
    "language_info": {
      "name": "python"
    }
  },
  "cells": [
    {
      "cell_type": "code",
      "metadata": {
        "colab": {
          "base_uri": "https://localhost:8080/"
        },
        "id": "KAUGqG0j8iOa",
        "outputId": "ebb84059-e862-4553-e9e6-91ac3d1d0ab9"
      },
      "source": [
        "user_info = {'admin': '12345678', \"guest\": \"1234\"} #usernames and passwords of users \n",
        "num_login = 5 #Maximum login attemps is 5. \n",
        "counter = 0 #counter for number of login attempts\n",
        "for i in range(num_login):\n",
        "  username = input(\"Please enter username: \")\n",
        "  password = input(\"Please enter password: \")\n",
        "  counter+=1   \n",
        "  if (username not in user_info): # if username is incorrect, user may be not registered to system\n",
        "    print(\"There is not a registered user with username: {}. Please try again or Register. Remaining login attempts: {}.\".format(username, (num_login-counter)))\n",
        "  elif (username in user_info and password != user_info[username]):\n",
        "    #we know only password is incorrect, but for security resons, message is general\n",
        "    print(\"Your login information is incorrect. Please try again. Remaining login attempts: {}\".format(num_login-counter)) \n",
        "  elif username in user_info and password == user_info[username] :\n",
        "    print(\"You logged in successfully!\")\n",
        "    break\n",
        "  if counter==num_login: \n",
        "    print(\"You’ve reached the maximum login attempts :(\")\n",
        "  "
      ],
      "execution_count": 12,
      "outputs": [
        {
          "output_type": "stream",
          "text": [
            "Please enter username: 21\n",
            "Please enter password: 4312\n",
            "There is not a registered user with username: 21. Please try again or Register. Remaining login attempts: 4.\n",
            "Please enter username: wer\n",
            "Please enter password: 1234\n",
            "There is not a registered user with username: wer. Please try again or Register. Remaining login attempts: 3.\n",
            "Please enter username: guest\n",
            "Please enter password: 12345\n",
            "Your login information is incorrect. Please try again. Remaining login attempts: 2\n",
            "Please enter username: admin\n",
            "Please enter password: 12\n",
            "Your login information is incorrect. Please try again. Remaining login attempts: 1\n",
            "Please enter username: admin\n",
            "Please enter password: 12345678\n",
            "You logged in successfully!\n"
          ],
          "name": "stdout"
        }
      ]
    }
  ]
}