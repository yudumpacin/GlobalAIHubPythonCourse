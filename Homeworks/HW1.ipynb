{
  "nbformat": 4,
  "nbformat_minor": 0,
  "metadata": {
    "colab": {
      "name": "HW1.ipynb",
      "provenance": [],
      "collapsed_sections": []
    },
    "kernelspec": {
      "name": "python3",
      "display_name": "Python 3"
    },
    "language_info": {
      "name": "python"
    }
  },
  "cells": [
    {
      "cell_type": "markdown",
      "metadata": {
        "id": "kVHoRETKj26k"
      },
      "source": [
        "## DAY 2 - Assignment"
      ]
    },
    {
      "cell_type": "markdown",
      "metadata": {
        "id": "nty7wWyUj9HR"
      },
      "source": [
        "# Task 1"
      ]
    },
    {
      "cell_type": "code",
      "metadata": {
        "colab": {
          "base_uri": "https://localhost:8080/"
        },
        "id": "6IiClz-MkBlf",
        "outputId": "1d93ff55-4e0a-4a58-9712-dd9d7a75bb03"
      },
      "source": [
        "list = [1,2,3,4,5,6]\n",
        "first = []\n",
        "last = []\n",
        "for i in range(len(list)):\n",
        "  if i < len(list)/2:     #if length is odd then, first half is smaller one \n",
        "    first.append(list[i]) #take first half \n",
        "  else:\n",
        "    last.append(list[i]) #take sekond half\n",
        "\n",
        "new_list = last + first #concat last and first\n",
        "print(new_list)\n"
      ],
      "execution_count": 9,
      "outputs": [
        {
          "output_type": "stream",
          "text": [
            "[4, 5, 6, 1, 2, 3]\n"
          ],
          "name": "stdout"
        }
      ]
    },
    {
      "cell_type": "markdown",
      "metadata": {
        "id": "ZK9_hTy-mSVt"
      },
      "source": [
        "## Task 2"
      ]
    },
    {
      "cell_type": "code",
      "metadata": {
        "colab": {
          "base_uri": "https://localhost:8080/"
        },
        "id": "86u0WDr-mVWO",
        "outputId": "204c836e-029f-4fd4-b9ac-a3adaaedc910"
      },
      "source": [
        "n = input(\"Please enter a digit: \")\n",
        "for i in range(int(n)+1):\n",
        "  if i%2==0:\n",
        "    print(i)"
      ],
      "execution_count": 11,
      "outputs": [
        {
          "output_type": "stream",
          "text": [
            "Please enter a digit: 8\n",
            "0\n",
            "2\n",
            "4\n",
            "6\n",
            "8\n"
          ],
          "name": "stdout"
        }
      ]
    },
    {
      "cell_type": "code",
      "metadata": {
        "id": "sxlfwFxdmVhe"
      },
      "source": [
        ""
      ],
      "execution_count": null,
      "outputs": []
    },
    {
      "cell_type": "code",
      "metadata": {
        "id": "Yzj_1n_VmVlH"
      },
      "source": [
        ""
      ],
      "execution_count": null,
      "outputs": []
    }
  ]
}