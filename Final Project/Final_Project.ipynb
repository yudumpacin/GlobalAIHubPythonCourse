{
  "nbformat": 4,
  "nbformat_minor": 0,
  "metadata": {
    "colab": {
      "name": "Final Project.ipynb",
      "provenance": [],
      "collapsed_sections": []
    },
    "kernelspec": {
      "name": "python3",
      "display_name": "Python 3"
    },
    "language_info": {
      "name": "python"
    }
  },
  "cells": [
    {
      "cell_type": "markdown",
      "metadata": {
        "id": "TMO6COrcOpGB"
      },
      "source": [
        "### **Final Project:  Knowledge competition**"
      ]
    },
    {
      "cell_type": "markdown",
      "metadata": {
        "id": "CIacfKOa_V9y"
      },
      "source": [
        "# Creating Data Source"
      ]
    },
    {
      "cell_type": "markdown",
      "metadata": {
        "id": "sm7bi5h9RUSj"
      },
      "source": [
        "I take the questions from a random webpage that I found a simple Google Search \"Bilgi Yarışması Soru ve Cevapları\""
      ]
    },
    {
      "cell_type": "markdown",
      "metadata": {
        "id": "ataQuREKRtC1"
      },
      "source": [
        "Take questions using web scrabing"
      ]
    },
    {
      "cell_type": "code",
      "metadata": {
        "id": "FGrmRPtrOthC"
      },
      "source": [
        "#import necessary libraries for web scrabing\n",
        "import requests as req\n",
        "from bs4 import BeautifulSoup as bs"
      ],
      "execution_count": 3,
      "outputs": []
    },
    {
      "cell_type": "code",
      "metadata": {
        "id": "FPqtY9QeRoN2"
      },
      "source": [
        "url = 'https://www.iyigunler.net/nedir/bilgi-yarismasi-soru-ve-cevaplari-kolay-sorular-kolay-cevaplar-h341280.html'"
      ],
      "execution_count": 5,
      "outputs": []
    },
    {
      "cell_type": "code",
      "metadata": {
        "id": "3my8F09uR5_J"
      },
      "source": [
        "req = req.get(url)\n",
        "soup = bs(req.content)"
      ],
      "execution_count": 6,
      "outputs": []
    },
    {
      "cell_type": "code",
      "metadata": {
        "id": "VgMRWdtpR6H6"
      },
      "source": [
        "page = soup.find(\"div\", attrs={\"id\":\"newsbody\"})"
      ],
      "execution_count": 7,
      "outputs": []
    },
    {
      "cell_type": "code",
      "metadata": {
        "colab": {
          "base_uri": "https://localhost:8080/"
        },
        "id": "8suxPORxUQB6",
        "outputId": "e0bae2da-09d6-4d87-c59a-e3a7a56c0b35"
      },
      "source": [
        "page"
      ],
      "execution_count": 8,
      "outputs": [
        {
          "output_type": "execute_result",
          "data": {
            "text/plain": [
              "<div id=\"newsbody\"><h1><span style=\"color:#2f4f4f;\"><strong><strong class=\"klink\">Bilgi yarışması</strong> soruları ve cevapları | Kolay sorular ve cevaplar</strong></span></h1>\n",
              "<p></p>\n",
              "<p><br/>\n",
              "<strong>Bilgi yarışması soruları ve cevapları, </strong>Bilim, fizik, kimya, biyoloji, coğrafya, tarih, kültür ve sanat içerikli en güncel soruları sizler için derledik. Ev içinde, internette oyun oynarken, sevdiklerinizle sohbet ederken bilginizi sınımak isterseniz, yüzlerce soru ve cevabı bu haberin devamında. Haberin yorum kısmına siz de soru ve cevaplarınızı ekleyerek katkıda bulunabilirsiniz. </p>\n",
              "<p><img class=\"detayFoto\" src=\"https://www.iyigunler.net/images/upload/yaris_1.jpg\"/><br/>\n",
              "Başarılar.. Kazananları şimdiden kutluyoruz.</p>\n",
              "<h2><span style=\"color:#2f4f4f;\"><strong>Bilgi yarışması soruları ve cevapları</strong></span></h2>\n",
              "<p>Her sorunun altında cevabı yer almaktadır, dilediğiniz sorudan başlayabilirsiniz..</p>\n",
              "<p><br/>\n",
              "Tarihin sıfır noktası olarak bilinen, insanlık tarihinin ilk somut kalıntılarının bulunduğu Göbekli tepe hangi ilimizdedir?</p>\n",
              "<p><strong>Şanlıurfa</strong></p>\n",
              "<p>Tarihin bir başka dönüm noktası olarak gösterilir. Sultanahmet Meydanı'nda, Yerebatan Sarnıcı üstünde yer alır. İstanbul'a gelen turistlerin mutlaka uğrak yerleri arasındadır. Bu ünlü dikili taşın adı nedir?</p>\n",
              "<p><strong>Milenyum Taşı</strong></p>\n",
              "<p>Dünyanın en büyük deniz kazalarından biri olarak tarihe geçti. 1912 yılında 1.550 kişiye mezar olan ünlü transatlantiğin adı nedir? Ödüllü Filmlere konu olmuştur</p>\n",
              "<p><strong>Titanik</strong></p>\n",
              "<p><strong><img class=\"detayFoto\" src=\"https://www.iyigunler.net/images/upload/kolay_1.jpg\"/></strong></p>\n",
              "<p>Düğünlerde şölenlerde davulla birlikte çalınan enstruman hangisidir?</p>\n",
              "<p><strong>Zurna</strong></p>\n",
              "<p>Suçluların yakalanmasında kullanılan en önemli delillerden biridir, suçlunun geride bıraktığı iz?  </p>\n",
              "<p><strong>Parmak izi</strong></p>\n",
              "<p>Şimdiki sorumuz aydınlatmada kullandığımız çok eski kadim bir araç. Erimiş parafin içine pamuk ipliği ile sıkıştırılarak yüzlerce yıldır yapılır. Nedir bu aydınlatma aracının adı.</p>\n",
              "<p><strong>Mum</strong></p>\n",
              "<p>Bursa'nın en ünlü tatlısıdır, Bursa'nın bir ilçesiyle aynı adı taşır?</p>\n",
              "<p><strong>Mustafa Kemal Paşa tatlısı<br/>\n",
              "Kemalpaşa tatlısı</strong></p>\n",
              "<p>Haberleşmenin eski dildeki adı nedir? </p>\n",
              "<p><strong>Muhabere</strong></p>\n",
              "<p>Müsade, izin veya ruhsat!</p>\n",
              "<p><strong>Destur</strong></p>\n",
              "<p>Lakin ve fakatın eş anlamlısı</p>\n",
              "<p><strong>Ama</strong></p>\n",
              "<p>Osmanlıda şehzadelerin özel hocası, eğitmenlerine verilen isim</p>\n",
              "<p><strong>Lala</strong></p>\n",
              "<p>Belli bir süre eğitimi tamamladıktan sonra alınan, sir okul ya da eğitim kurumu tarafından verilen belgenin adı?</p>\n",
              "<p><strong>Diploma</strong></p>\n",
              "<p>Peki bu belgenin eski dildeki adı nedir?</p>\n",
              "<p><strong>İcazet</strong></p>\n",
              "<p>Evlerde, ofislerde ısıtma ve serinlemede kullanılan iklimlendirme araçlarına verilen ortak isim?</p>\n",
              "<p><strong>Klima</strong></p>\n",
              "<p>Telli çalgılarda sazların en kalın teli</p>\n",
              "<p><strong>Bam Teli</strong></p>\n",
              "<p><br/>\n",
              "Şehzadelerin hükümdar olarak tahta çıkması anına törenlerine ne ad verilir</p>\n",
              "<p><strong>Cülus</strong></p>\n",
              "<p>Küçük ve büyükbaş hayvanların kesim için götürüldüğü yer</p>\n",
              "<p><strong>Mezbaha</strong></p>\n",
              "<p>Kapı kolu? Eski evlerin girişlerine asılan, zilden önce sıkça kullandığımız, her biri sanat eseri gibi demir ve dökümden yapılan bir araç</p>\n",
              "<p><strong>Tokmak</strong></p>\n",
              "<p>İçinde faydalı çok sayıda bilginin yer aldığı kitap biçimindeki takvime verilen isim</p>\n",
              "<p><strong>Almanak</strong></p>\n",
              "<p>Namaza Başlama tekbiri</p>\n",
              "<p><strong>İftithah Tekbiri</strong></p>\n",
              "<p>Japonların geleneksel güreşine ne ad verilir?</p>\n",
              "<p><strong>Sumo</strong></p>\n",
              "<p>Çalışanların, iş verenlerle belirli dönemlerde, maaşlarının ve sosyal haklarının iyileştirilmesi için yapılan sözleşmenin adı nedir?</p>\n",
              "<p><strong>Toplu sözleşme?</strong></p>\n",
              "<p>Dört tarafı denizle çevrili kara parçasına ada denir? Peki üç tarafı deniz ya da göl suları ile çevrili kara parçasının adı nedir?</p>\n",
              "<p><strong>Yarım Ada</strong></p>\n",
              "<p>Canlı hayvan alım satımı yapan kişiler hangi mesleği icra ediyor?</p>\n",
              "<p><strong>Celep</strong></p>\n",
              "<p>Geleneklerimize göre evlilik sırasında gelinle birlikte gelen eşyalarıhn ortak adı nedir?</p>\n",
              "<p><strong>Çeyiz</strong></p>\n",
              "<p>Yeni bir işe girerken, iş yerlerine verdiğimiz kısa öz geçmişin kısa adı</p>\n",
              "<p><strong>CV</strong></p>\n",
              "<p>Tarla, arsa, bina gibi taşınmazlar için ödediğimiz vergiye ne ad verilir</p>\n",
              "<p><strong>Emlak Vergisi</strong></p>\n",
              "<p>Deniz yolculuğunda toplu insan taşımacılığında kullanılan araçların ortak adı?</p>\n",
              "<p><strong>Vapur</strong></p>\n",
              "<p>Kapı önünde bulunan basamağa ne ad verilir?</p>\n",
              "<p><strong>Eşik</strong></p>\n",
              "<p>Peygamberimiz Hazreti Muhammed'in babasının adı</p>\n",
              "<p><strong>Abdullah</strong></p>\n",
              "<p>Türk destanlarının en ünlüsü Köroğlu, hangi ilimizin dağlarında yaşadığına inanılır?</p>\n",
              "<p><strong>Bolu Dağları</strong></p>\n",
              "<p>Osmanlı hukukunda, mahkemelerde yargılamayı yapan görevlinin adı nedir?</p>\n",
              "<p><strong>Kadı</strong></p>\n",
              "<p>Ölümden sonra insanlarla ilgilenen meleklerden birinin adı</p>\n",
              "<p><strong>Münker veya nekir</strong></p>\n",
              "<p>Kız Kalesi hangi ilimizdedir</p>\n",
              "<p><strong>Mersin (İçel)</strong></p>\n",
              "<p>Boşanmış eşlerden birinin diğerine veya çocuklara boşanma sonrası ödediği aylık bedelin adı nedir?</p>\n",
              "<p><strong>Nafaka</strong></p>\n",
              "<p>Bir çalışanların toplu olarak üye olduğu mesleki sivil toplum örgütlerine verilen isim?</p>\n",
              "<p><strong>Sendika</strong></p>\n",
              "<p>İp üstünde gösteri yapanlar hangi mesleği icra eder?</p>\n",
              "<p><strong>Cambaz</strong></p>\n",
              "<p>Türkiye'de Hava durumu tahminlerini yapan hava durumu bilgilerini kamuoyu ile paylaşan kurumumuzun adı nedir?</p>\n",
              "<p><strong>Meteoroloji</strong></p>\n",
              "<p>Rusya'nın Başkenti Moskova'da devletin resmi işlerinin de yürütüldüğü ünlü kızıl renkli görkemli sarayının adı nedir?</p>\n",
              "<p><strong>Kremlin</strong></p>\n",
              "<p>Hicri Takvime göre <strong>Kadir gecesi </strong>hangi aydadır?</p>\n",
              "<p><strong>Ramazan</strong></p>\n",
              "<p>Otomobilin hareket etmeden stabil çalışma şekline ne ad verilir?</p>\n",
              "<p><strong>Rolantide çalışma</strong></p>\n",
              "<p></p><div class=\"reklam reklam120 text-center\"><script async=\"\" src=\"https://pagead2.googlesyndication.com/pagead/js/adsbygoogle.js\"></script>\n",
              "<ins class=\"adsbygoogle\" data-ad-client=\"ca-pub-4186091935251279\" data-ad-format=\"autorelaxed\" data-ad-slot=\"1554410936\" style=\"display:block\"></ins>\n",
              "<script>\n",
              " (adsbygoogle = window.adsbygoogle || []).push({});\n",
              "</script>\n",
              "</div>Kurutulmuş yaprakları demlendirilerek içilen bitki?\n",
              "\n",
              "<p><strong>Çay</strong></p>\n",
              "<p>Ramazan ayının en güzel tiyatral eğlencelerinden biri olan Gölge oyununda Karagöz'ün en yakın arkadaşının adı</p>\n",
              "<p><strong>Hacivat</strong></p>\n",
              "<p>Sırp askerleri tarafından Bosna savaşı sırasında defalarca hedef alınan ve Osmanlı İmparatorlu'nun Balkanlar'daki en zarif eserleri arasında yer alan Tarihi nevatra köprüsü hangi nehir üzerindedir?</p>\n",
              "<p><strong>Mostar</strong></p>\n",
              "<p>Tunçbilek ilçesi hangi ilimize bağlı</p>\n",
              "<p><strong>Kütahya</strong><br/>\n",
              " </p>\n",
              "<p>Kuru ot yığını</p>\n",
              "<p><strong>Balya - Saman - Palet hepsi olur</strong></p>\n",
              "<p>Burdur'da bulunur, Ölçülebilen 2 bin 150 metre derinliğine rağmen kesin derinliği hala gizemini koruyor. Türkiye'nin ve dünyanın en güzel mağalarından biri olan yerli ve yabancı binlerce kişinin keşfettiği yerin adı nedir?</p>\n",
              "<p><strong>İnsuyu Mağarası</strong></p>\n",
              "<p></p>\n",
              "<p>Kardeş Azerbaycan cumhuriyetine bağlı özerk bölgedir, Türkiye ile en kısa sınıra sahiptir. Rahmetli Azerbaycan Cumhurbaşkanı Elçibey'in de memleketidir. Bu özer bölgenin adı nedir?</p>\n",
              "<p><strong>Nahcivan</strong></p>\n",
              "<p>Ölenden geriye kalan mal veya para</p>\n",
              "<p><strong>Miras</strong></p>\n",
              "<p>Türkiye'nin gül ve gül yağı üretiminde dünya çapındaki şehrimiz neresidir?</p>\n",
              "<p><strong>Isparta</strong></p>\n",
              "<p>Dünya'nın en başarılı motorsporcusudur, <strong>2007 World Championship şampiyon </strong>pilotudur. Bir sezonda en fazla dünya şampiyonluğu olan motosporcumuzun adı nedir?</p>\n",
              "<p><strong>Kenan Sofuoğlu</strong></p>\n",
              "<p>Üniversite giriş sınavının adı nedir?</p>\n",
              "<p><strong>YKS (Yüksek Öğretim Kurumları Sınavı)</strong></p>\n",
              "<p>Osmanlı İmparatorluğu'nda Kanuni Sultan Süleyman'ın babası?</p>\n",
              "<p><strong>Yavuz Sultan Selim</strong></p>\n",
              "<p>Karadeniz, İç Anadolu, Ege ve Marmara bölgelerinde şehirlere kasabalara yakın yerlerde senede bir kez yüz yıllardır kurulan devasa pazar ve eğlence yerlerine ne ad verilir?</p>\n",
              "<p><strong>Panayır</strong></p>\n",
              "<p> Ramazan sofralarının vazgeçilmezidir ve sadece Ramazan aylarında yapılır. Yufkası mısır nişastası ile buğday unu ile özenle incecik yapılır. Şekerli sütü kirazı, cevizlisi ve çam fıstıklısı ile dünyaca ünlüdür. Bu ramazan tatlısının adı nedir?</p>\n",
              "<p><strong>Güllaç</strong></p>\n",
              "<p>Babalar günü hangi tarihte kutlanır?</p>\n",
              "<p><strong>21 Haziran Pazar</strong></p>\n",
              "<p>Nevşehir, Ürgüp ve Göreme'yi de içine alan Turizm bölgesinin adı nedir?</p>\n",
              "<p>(Peri bacaları ve Ihlara Vadisiyle ünlü bir bölgemiz)</p>\n",
              "<p><strong>Kapadokya</strong></p>\n",
              "<p>Ağırlık ölçüsü içinde bin kilogramlık bir yük kaç ton gelir?</p>\n",
              "<p><strong>1 ton</strong></p>\n",
              "<p><strong>Osmanlı Akıncı </strong>birliklerinin en önemli silahlarından biridir. Bir zincir ucuna bağlı çelik küreden oluşur, değişik şekilleri vardır. Bu silahın adı nedir. Demir ve bakırdan yapılır..</p>\n",
              "<p><br/>\n",
              "(At üstünde akıncılarımız havada kavisler çizerek düşmanın kalkanını direnişini kırmak için bu silahı kullanırdı)</p>\n",
              "<p><strong>Topuz, Gürz</strong> ya da <strong>Bozdoğan </strong>üçü de doğru cevap</p>\n",
              "<p>Şairler en çok onu beklir? Şiir yazdıran duygusal ruh halinin gelmesini nasıl tarif ederiz?</p>\n",
              "<p><strong>İlham perisi </strong></p>\n",
              "<p>Halı ve kilim dokuma tezgahlarının ortak adıdır. Hala Anadoluda pek çok yerde en güzel halı ve kilimler bu tezgahlarda dokunur. Adı nedir?</p>\n",
              "<p><strong>Istar</strong></p>\n",
              "<p>Taşınmaz mülklerin hayır, eğitim ve sağlık işlerinde kullanılması şartıyla bağışlandığı kurumların ortak adı nedir?</p>\n",
              "<p><strong>Vakıf</strong></p>\n",
              "<p>Yerel seçimler kaç yılda bir yapılır?</p>\n",
              "<p><strong>5</strong></p>\n",
              "<p>Buğday, arpa, nohut gibi mahsüllerin hasadı hangi mevsimde yapılır?</p>\n",
              "<p><strong>Yaz Mevsimi</strong></p>\n",
              "<p>Anadolu Selçuklu hükümdarlığı döneminde Kırşehir ve çevresinde yaşadı. Çırak, Kalfa, Ustalık gibi kavramların temellerini sıkı kurallara bağlayarak uygulamaya koydu. Sadece Anadolu'da değil, Orta Asya'dan Balkanlara geniş bir coğrafyada esnaflığın temel ilkelerini belirledi. Ahilik teşkilatı onun adıyla anıldı. Bu ünlü bilgenin adı nedir?</p>\n",
              "<p><strong>Ahi Evran</strong></p>\n",
              "<p><strong>Mustafa Kemal Atatürk</strong>'ü İstanbul'dan Samsun'a götüren vapurun adı nedir?</p>\n",
              "<p><strong>Bandırma</strong></p>\n",
              "<p>Simpleks türü bir virüse bağlı olarak dudak ve ağız içinde çıkan küçük yaralara ne ad veririz?</p>\n",
              "<p><strong>Uçuk</strong></p>\n",
              "<p></p>\n",
              "<p>Şirketlere ait hisseler nerede alınır satılır?</p>\n",
              "<p><strong>Borsa</strong></p>\n",
              "<p>Büyük bölümü Edirne'de 1982 yılında kurulan üniversitemizin adı nedir?</p>\n",
              "<p><strong>Trakya Üniversitesi</strong></p>\n",
              "<p>Ülkemizin gururu, dünyaca ünlü İnsansız Hava Araçları'na İHA diyoruz, Silahlı Hava Araçları'na ne ad veriyoruz?</p>\n",
              "<p><strong>Siha</strong><br/>\n",
              " </p>\n",
              "<p>Günümüzde her yaş grubunu, ama en çok sigara içenleri etkileyen KOAH'ın en önemli belirtisi nedir?</p>\n",
              "<p><strong>Solunum güçlüğü (nefes alma zorluğu)</strong></p>\n",
              "<p>Muradiye ilçesi hangi ilimize bağlı?</p>\n",
              "<p><strong>Van</strong></p>\n",
              "<p></p>\n",
              "<p>TC kimlik numaramız kaç harften oluşur?</p>\n",
              "<p><strong>11</strong></p>\n",
              "<p>İlk osmanlı para birimi nedir?</p>\n",
              "<p><strong>Akçe</strong></p>\n",
              "<p>Osmanlı'da iftar davetlerinde konuklara \"diş kirasi\" adı ile iftarda bağışlanan para veya hediyeye ne ad verilir.</p>\n",
              "<p><strong>İftariye</strong></p>\n",
              "<p></p>\n",
              "<p>Resmi konukları ağırlamak ve onlara kılavuzluk etmekle gorevlendirilen kimse, konukcu</p>\n",
              "<p><strong>Mihmandar</strong></p>\n",
              "<p>Özellikle ramazan aylarının vazgeçilmez tatlısı kadayıfın peynirli olanına ne ad veririz</p>\n",
              "<p><strong>Künefe</strong></p>\n",
              "<p>Kalbi besleyen damarlardaki tıkanıklıkları açma işlemine halk arasında ya da tıptaki adı nedir </p>\n",
              "<p><strong>Anjiyo ya da anjioplasti</strong></p>\n",
              "<p>İkametgah, konut, ve ev için kullandığımız diğer tanımlama</p>\n",
              "<p><strong>Mesken</strong><br/>\n",
              " </p>\n",
              "<p>Avrupa Futbol Federasyonları Birliği'nin kısaltılmışı nedir?</p>\n",
              "<p><strong>UEFA</strong></p>\n",
              "<p>İsteğine erememek, istediğini elde edememek, mutsuzluk hissini anlatan ruh haline ne ad verilir</p>\n",
              "<p><strong>Hüsran</strong></p>\n",
              "<p>Savaşlarda düşmandan elde edilen eşya araç ve başka mallara ne ad verilir?</p>\n",
              "<p><strong>Ganimet</strong><br/>\n",
              " </p>\n",
              "</div>"
            ]
          },
          "metadata": {
            "tags": []
          },
          "execution_count": 8
        }
      ]
    },
    {
      "cell_type": "markdown",
      "metadata": {
        "id": "_0LXw5NzTdh5"
      },
      "source": [
        "There are plenty of questions and answers. I noticed that answers are between tags `<strong>` but questions not. So, we can seperate them and add them in to a Dictionary"
      ]
    },
    {
      "cell_type": "code",
      "metadata": {
        "id": "BErlwl2mUsxj"
      },
      "source": [
        "questions =  page.find_all(\"p\")[4:]"
      ],
      "execution_count": 9,
      "outputs": []
    },
    {
      "cell_type": "code",
      "metadata": {
        "colab": {
          "base_uri": "https://localhost:8080/"
        },
        "id": "Se-I-AplW_2x",
        "outputId": "955783d2-94ca-4992-862f-e0f528116e15"
      },
      "source": [
        "questions[0]"
      ],
      "execution_count": 10,
      "outputs": [
        {
          "output_type": "execute_result",
          "data": {
            "text/plain": [
              "<p><br/>\n",
              "Tarihin sıfır noktası olarak bilinen, insanlık tarihinin ilk somut kalıntılarının bulunduğu Göbekli tepe hangi ilimizdedir?</p>"
            ]
          },
          "metadata": {
            "tags": []
          },
          "execution_count": 10
        }
      ]
    },
    {
      "cell_type": "code",
      "metadata": {
        "id": "4jW7Em4QYQJB"
      },
      "source": [
        "questionsList = {}\n",
        "question =\"\"\n",
        "answer=\"\"\n",
        "for q in questions:\n",
        "  if q.find(\"strong\") != None:\n",
        "    answer = q.text.replace(\"\\n\\xa0\", \"\").replace(\"?\",\"\").replace(\"\\n\",\"\").replace(\"\\xa0\", \"\")\n",
        "  else :\n",
        "    question = q.text.replace(\"\\n\\xa0\", \"\").replace(\"\\n\",\"\").replace(\"\\xa0\", \"\")\n",
        "  questionsList[question]  = answer\n",
        "  \n"
      ],
      "execution_count": 12,
      "outputs": []
    },
    {
      "cell_type": "code",
      "metadata": {
        "colab": {
          "base_uri": "https://localhost:8080/"
        },
        "id": "j9tfV_gncib4",
        "outputId": "842b3e05-bc38-4b78-bda5-35dc61fe6115"
      },
      "source": [
        "#There are few problems with the result, in first line there is only answer, and for the second questions there more than pne answers, I will delete these lines\n",
        "questionsList"
      ],
      "execution_count": 13,
      "outputs": [
        {
          "output_type": "execute_result",
          "data": {
            "text/plain": [
              "{'': 'İftariye',\n",
              " '(At üstünde akıncılarımız havada kavisler çizerek düşmanın kalkanını direnişini kırmak için bu silahı kullanırdı)': 'Topuz, Gürz ya da Bozdoğan üçü de doğru cevap',\n",
              " '(Peri bacaları ve Ihlara Vadisiyle ünlü bir bölgemiz)': 'Kapadokya',\n",
              " \"Anadolu Selçuklu hükümdarlığı döneminde Kırşehir ve çevresinde yaşadı. Çırak, Kalfa, Ustalık gibi kavramların temellerini sıkı kurallara bağlayarak uygulamaya koydu. Sadece Anadolu'da değil, Orta Asya'dan Balkanlara geniş bir coğrafyada esnaflığın temel ilkelerini belirledi. Ahilik teşkilatı onun adıyla anıldı. Bu ünlü bilgenin adı nedir?\": 'Bandırma',\n",
              " \"Avrupa Futbol Federasyonları Birliği'nin kısaltılmışı nedir?\": 'UEFA',\n",
              " 'Ağırlık ölçüsü içinde bin kilogramlık bir yük kaç ton gelir?': 'Osmanlı Akıncı birliklerinin en önemli silahlarından biridir. Bir zincir ucuna bağlı çelik küreden oluşur, değişik şekilleri vardır. Bu silahın adı nedir. Demir ve bakırdan yapılır..',\n",
              " 'Babalar günü hangi tarihte kutlanır?': '21 Haziran Pazar',\n",
              " 'Belli bir süre eğitimi tamamladıktan sonra alınan, sir okul ya da eğitim kurumu tarafından verilen belgenin adı?': 'Diploma',\n",
              " 'Bir çalışanların toplu olarak üye olduğu mesleki sivil toplum örgütlerine verilen isim?': 'Sendika',\n",
              " 'Boşanmış eşlerden birinin diğerine veya çocuklara boşanma sonrası ödediği aylık bedelin adı nedir?': 'Nafaka',\n",
              " \"Burdur'da bulunur, Ölçülebilen 2 bin 150 metre derinliğine rağmen kesin derinliği hala gizemini koruyor. Türkiye'nin ve dünyanın en güzel mağalarından biri olan yerli ve yabancı binlerce kişinin keşfettiği yerin adı nedir?\": 'İnsuyu Mağarası',\n",
              " \"Bursa'nın en ünlü tatlısıdır, Bursa'nın bir ilçesiyle aynı adı taşır?\": 'Mustafa Kemal Paşa tatlısıKemalpaşa tatlısı',\n",
              " 'Buğday, arpa, nohut gibi mahsüllerin hasadı hangi mevsimde yapılır?': 'Yaz Mevsimi',\n",
              " \"Büyük bölümü Edirne'de 1982 yılında kurulan üniversitemizin adı nedir?\": 'Trakya Üniversitesi',\n",
              " 'Canlı hayvan alım satımı yapan kişiler hangi mesleği icra ediyor?': 'Celep',\n",
              " 'Deniz yolculuğunda toplu insan taşımacılığında kullanılan araçların ortak adı?': 'Vapur',\n",
              " 'Dört tarafı denizle çevrili kara parçasına ada denir? Peki üç tarafı deniz ya da göl suları ile çevrili kara parçasının adı nedir?': 'Yarım Ada',\n",
              " 'Dünyanın en büyük deniz kazalarından biri olarak tarihe geçti. 1912 yılında 1.550 kişiye mezar olan ünlü transatlantiğin adı nedir? Ödüllü Filmlere konu olmuştur': '',\n",
              " 'Düğünlerde şölenlerde davulla birlikte çalınan enstruman hangisidir?': 'Zurna',\n",
              " 'Evlerde, ofislerde ısıtma ve serinlemede kullanılan iklimlendirme araçlarına verilen ortak isim?': 'Klima',\n",
              " 'Geleneklerimize göre evlilik sırasında gelinle birlikte gelen eşyalarıhn ortak adı nedir?': 'Çeyiz',\n",
              " \"Günümüzde her yaş grubunu, ama en çok sigara içenleri etkileyen KOAH'ın en önemli belirtisi nedir?\": 'Solunum güçlüğü (nefes alma zorluğu)',\n",
              " 'Haberleşmenin eski dildeki adı nedir?': 'Muhabere',\n",
              " 'Halı ve kilim dokuma tezgahlarının ortak adıdır. Hala Anadoluda pek çok yerde en güzel halı ve kilimler bu tezgahlarda dokunur. Adı nedir?': 'Istar',\n",
              " 'Japonların geleneksel güreşine ne ad verilir?': 'Sumo',\n",
              " 'Kalbi besleyen damarlardaki tıkanıklıkları açma işlemine halk arasında ya da tıptaki adı nedir': 'Anjiyo ya da anjioplasti',\n",
              " 'Kapı kolu? Eski evlerin girişlerine asılan, zilden önce sıkça kullandığımız, her biri sanat eseri gibi demir ve dökümden yapılan bir araç': 'Tokmak',\n",
              " 'Kapı önünde bulunan basamağa ne ad verilir?': 'Eşik',\n",
              " 'Karadeniz, İç Anadolu, Ege ve Marmara bölgelerinde şehirlere kasabalara yakın yerlerde senede bir kez yüz yıllardır kurulan devasa pazar ve eğlence yerlerine ne ad verilir?': 'Panayır',\n",
              " \"Kardeş Azerbaycan cumhuriyetine bağlı özerk bölgedir, Türkiye ile en kısa sınıra sahiptir. Rahmetli Azerbaycan Cumhurbaşkanı Elçibey'in de memleketidir. Bu özer bölgenin adı nedir?\": 'Nahcivan',\n",
              " 'Kuru ot yığını': 'Balya - Saman - Palet hepsi olur',\n",
              " 'Küçük ve büyükbaş hayvanların kesim için götürüldüğü yer': 'Mezbaha',\n",
              " 'Kız Kalesi hangi ilimizdedir': 'Mersin (İçel)',\n",
              " 'Lakin ve fakatın eş anlamlısı': 'Ama',\n",
              " 'Muradiye ilçesi hangi ilimize bağlı?': 'Van',\n",
              " 'Müsade, izin veya ruhsat!': 'Destur',\n",
              " 'Namaza Başlama tekbiri': 'İftithah Tekbiri',\n",
              " \"Nevşehir, Ürgüp ve Göreme'yi de içine alan Turizm bölgesinin adı nedir?\": '21 Haziran Pazar',\n",
              " 'Osmanlı hukukunda, mahkemelerde yargılamayı yapan görevlinin adı nedir?': 'Kadı',\n",
              " \"Osmanlı İmparatorluğu'nda Kanuni Sultan Süleyman'ın babası?\": 'Yavuz Sultan Selim',\n",
              " 'Osmanlı\\'da iftar davetlerinde konuklara \"diş kirasi\" adı ile iftarda bağışlanan para veya hediyeye ne ad verilir.': 'İftariye',\n",
              " 'Osmanlıda şehzadelerin özel hocası, eğitmenlerine verilen isim': 'Lala',\n",
              " 'Otomobilin hareket etmeden stabil çalışma şekline ne ad verilir?': 'Rolantide çalışma',\n",
              " 'Peki bu belgenin eski dildeki adı nedir?': 'İcazet',\n",
              " \"Peygamberimiz Hazreti Muhammed'in babasının adı\": 'Abdullah',\n",
              " \"Ramazan ayının en güzel tiyatral eğlencelerinden biri olan Gölge oyununda Karagöz'ün en yakın arkadaşının adı\": 'Hacivat',\n",
              " 'Ramazan sofralarının vazgeçilmezidir ve sadece Ramazan aylarında yapılır. Yufkası mısır nişastası ile buğday unu ile özenle incecik yapılır. Şekerli sütü kirazı, cevizlisi ve çam fıstıklısı ile dünyaca ünlüdür. Bu ramazan tatlısının adı nedir?': 'Güllaç',\n",
              " 'Resmi konukları ağırlamak ve onlara kılavuzluk etmekle gorevlendirilen kimse, konukcu': 'Mihmandar',\n",
              " \"Rusya'nın Başkenti Moskova'da devletin resmi işlerinin de yürütüldüğü ünlü kızıl renkli görkemli sarayının adı nedir?\": 'Ramazan',\n",
              " 'Savaşlarda düşmandan elde edilen eşya araç ve başka mallara ne ad verilir?': 'Ganimet',\n",
              " 'Simpleks türü bir virüse bağlı olarak dudak ve ağız içinde çıkan küçük yaralara ne ad veririz?': 'Uçuk',\n",
              " 'Suçluların yakalanmasında kullanılan en önemli delillerden biridir, suçlunun geride bıraktığı iz? ': 'Parmak izi',\n",
              " \"Sırp askerleri tarafından Bosna savaşı sırasında defalarca hedef alınan ve Osmanlı İmparatorlu'nun Balkanlar'daki en zarif eserleri arasında yer alan Tarihi nevatra köprüsü hangi nehir üzerindedir?\": 'Mostar',\n",
              " 'TC kimlik numaramız kaç harften oluşur?': '11',\n",
              " \"Tarihin bir başka dönüm noktası olarak gösterilir. Sultanahmet Meydanı'nda, Yerebatan Sarnıcı üstünde yer alır. İstanbul'a gelen turistlerin mutlaka uğrak yerleri arasındadır. Bu ünlü dikili taşın adı nedir?\": 'Milenyum Taşı',\n",
              " 'Tarihin sıfır noktası olarak bilinen, insanlık tarihinin ilk somut kalıntılarının bulunduğu Göbekli tepe hangi ilimizdedir?': 'Şanlıurfa',\n",
              " 'Tarla, arsa, bina gibi taşınmazlar için ödediğimiz vergiye ne ad verilir': 'Emlak Vergisi',\n",
              " 'Taşınmaz mülklerin hayır, eğitim ve sağlık işlerinde kullanılması şartıyla bağışlandığı kurumların ortak adı nedir?': 'Vakıf',\n",
              " 'Telli çalgılarda sazların en kalın teli': 'Bam Teli',\n",
              " 'Tunçbilek ilçesi hangi ilimize bağlı': 'Kütahya',\n",
              " 'Türk destanlarının en ünlüsü Köroğlu, hangi ilimizin dağlarında yaşadığına inanılır?': 'Bolu Dağları',\n",
              " \"Türkiye'de Hava durumu tahminlerini yapan hava durumu bilgilerini kamuoyu ile paylaşan kurumumuzun adı nedir?\": 'Meteoroloji',\n",
              " \"Türkiye'nin gül ve gül yağı üretiminde dünya çapındaki şehrimiz neresidir?\": 'Kenan Sofuoğlu',\n",
              " 'Yeni bir işe girerken, iş yerlerine verdiğimiz kısa öz geçmişin kısa adı': 'CV',\n",
              " 'Yerel seçimler kaç yılda bir yapılır?': '5',\n",
              " 'Çalışanların, iş verenlerle belirli dönemlerde, maaşlarının ve sosyal haklarının iyileştirilmesi için yapılan sözleşmenin adı nedir?': 'Toplu sözleşme',\n",
              " 'Ölenden geriye kalan mal veya para': 'Miras',\n",
              " 'Ölümden sonra insanlarla ilgilenen meleklerden birinin adı': 'Münker veya nekir',\n",
              " 'Özellikle ramazan aylarının vazgeçilmez tatlısı kadayıfın peynirli olanına ne ad veririz': 'Künefe',\n",
              " \"Ülkemizin gururu, dünyaca ünlü İnsansız Hava Araçları'na İHA diyoruz, Silahlı Hava Araçları'na ne ad veriyoruz?\": 'Siha',\n",
              " 'Üniversite giriş sınavının adı nedir?': 'YKS (Yüksek Öğretim Kurumları Sınavı)',\n",
              " 'İkametgah, konut, ve ev için kullandığımız diğer tanımlama': 'Mesken',\n",
              " 'İlk osmanlı para birimi nedir?': 'Akçe',\n",
              " 'İp üstünde gösteri yapanlar hangi mesleği icra eder?': 'Cambaz',\n",
              " 'İsteğine erememek, istediğini elde edememek, mutsuzluk hissini anlatan ruh haline ne ad verilir': 'Hüsran',\n",
              " 'İçinde faydalı çok sayıda bilginin yer aldığı kitap biçimindeki takvime verilen isim': 'Almanak',\n",
              " 'Şairler en çok onu beklir? Şiir yazdıran duygusal ruh halinin gelmesini nasıl tarif ederiz?': 'İlham perisi',\n",
              " 'Şehzadelerin hükümdar olarak tahta çıkması anına törenlerine ne ad verilir': 'Cülus',\n",
              " 'Şimdiki sorumuz aydınlatmada kullandığımız çok eski kadim bir araç. Erimiş parafin içine pamuk ipliği ile sıkıştırılarak yüzlerce yıldır yapılır. Nedir bu aydınlatma aracının adı.': 'Mum',\n",
              " 'Şirketlere ait hisseler nerede alınır satılır?': 'Borsa'}"
            ]
          },
          "metadata": {
            "tags": []
          },
          "execution_count": 13
        }
      ]
    },
    {
      "cell_type": "code",
      "metadata": {
        "id": "WzIN6-zv9K31"
      },
      "source": [
        "del questionsList[\"(At üstünde akıncılarımız havada kavisler çizerek düşmanın kalkanını direnişini kırmak için bu silahı kullanırdı)\"]"
      ],
      "execution_count": 14,
      "outputs": []
    },
    {
      "cell_type": "code",
      "metadata": {
        "id": "DWVRkUlD9Un5"
      },
      "source": [
        "del questionsList[\"\"]"
      ],
      "execution_count": 15,
      "outputs": []
    },
    {
      "cell_type": "markdown",
      "metadata": {
        "id": "kmueTWc8-0E5"
      },
      "source": [
        "Convert dictionary to pandas DataFrame for analyzing the data more efficiently"
      ]
    },
    {
      "cell_type": "code",
      "metadata": {
        "id": "OEcgJIYNezDo"
      },
      "source": [
        "import pandas as pd"
      ],
      "execution_count": 16,
      "outputs": []
    },
    {
      "cell_type": "code",
      "metadata": {
        "id": "KhckYkHlfAmd"
      },
      "source": [
        "df = pd.DataFrame(columns=[\"Question\", \"Answer\"])"
      ],
      "execution_count": 17,
      "outputs": []
    },
    {
      "cell_type": "code",
      "metadata": {
        "id": "uBERUfhX6vaK"
      },
      "source": [
        "df[\"Question\"] = questionsList.keys()"
      ],
      "execution_count": 18,
      "outputs": []
    },
    {
      "cell_type": "code",
      "metadata": {
        "id": "TjSQ6ARu6voP"
      },
      "source": [
        "df[\"Answer\"] = questionsList.values()"
      ],
      "execution_count": 19,
      "outputs": []
    },
    {
      "cell_type": "code",
      "metadata": {
        "colab": {
          "base_uri": "https://localhost:8080/",
          "height": 197
        },
        "id": "Du0TFrUu8z05",
        "outputId": "d8c15bd7-6ca7-4bb6-8290-c35fb920bd24"
      },
      "source": [
        "df.head()"
      ],
      "execution_count": 20,
      "outputs": [
        {
          "output_type": "execute_result",
          "data": {
            "text/html": [
              "<div>\n",
              "<style scoped>\n",
              "    .dataframe tbody tr th:only-of-type {\n",
              "        vertical-align: middle;\n",
              "    }\n",
              "\n",
              "    .dataframe tbody tr th {\n",
              "        vertical-align: top;\n",
              "    }\n",
              "\n",
              "    .dataframe thead th {\n",
              "        text-align: right;\n",
              "    }\n",
              "</style>\n",
              "<table border=\"1\" class=\"dataframe\">\n",
              "  <thead>\n",
              "    <tr style=\"text-align: right;\">\n",
              "      <th></th>\n",
              "      <th>Question</th>\n",
              "      <th>Answer</th>\n",
              "    </tr>\n",
              "  </thead>\n",
              "  <tbody>\n",
              "    <tr>\n",
              "      <th>0</th>\n",
              "      <td>Tarihin sıfır noktası olarak bilinen, insanlık...</td>\n",
              "      <td>Şanlıurfa</td>\n",
              "    </tr>\n",
              "    <tr>\n",
              "      <th>1</th>\n",
              "      <td>Tarihin bir başka dönüm noktası olarak gösteri...</td>\n",
              "      <td>Milenyum Taşı</td>\n",
              "    </tr>\n",
              "    <tr>\n",
              "      <th>2</th>\n",
              "      <td>Dünyanın en büyük deniz kazalarından biri olar...</td>\n",
              "      <td></td>\n",
              "    </tr>\n",
              "    <tr>\n",
              "      <th>3</th>\n",
              "      <td>Düğünlerde şölenlerde davulla birlikte çalınan...</td>\n",
              "      <td>Zurna</td>\n",
              "    </tr>\n",
              "    <tr>\n",
              "      <th>4</th>\n",
              "      <td>Suçluların yakalanmasında kullanılan en önemli...</td>\n",
              "      <td>Parmak izi</td>\n",
              "    </tr>\n",
              "  </tbody>\n",
              "</table>\n",
              "</div>"
            ],
            "text/plain": [
              "                                            Question         Answer\n",
              "0  Tarihin sıfır noktası olarak bilinen, insanlık...      Şanlıurfa\n",
              "1  Tarihin bir başka dönüm noktası olarak gösteri...  Milenyum Taşı\n",
              "2  Dünyanın en büyük deniz kazalarından biri olar...               \n",
              "3  Düğünlerde şölenlerde davulla birlikte çalınan...          Zurna\n",
              "4  Suçluların yakalanmasında kullanılan en önemli...     Parmak izi"
            ]
          },
          "metadata": {
            "tags": []
          },
          "execution_count": 20
        }
      ]
    },
    {
      "cell_type": "markdown",
      "metadata": {
        "id": "fwdL-utp9kXW"
      },
      "source": [
        "Remove null values"
      ]
    },
    {
      "cell_type": "code",
      "metadata": {
        "id": "DjgU3ifC9nMy"
      },
      "source": [
        "index_null = df[df[\"Answer\"]==\"\"].index[0]"
      ],
      "execution_count": 21,
      "outputs": []
    },
    {
      "cell_type": "code",
      "metadata": {
        "id": "hW6HKbBR-et_"
      },
      "source": [
        "df = df.drop(labels=index_null, axis=0).reset_index(drop=True)"
      ],
      "execution_count": 22,
      "outputs": []
    },
    {
      "cell_type": "markdown",
      "metadata": {
        "id": "nUXiVn2vKTGS"
      },
      "source": [
        "Drop duplicates"
      ]
    },
    {
      "cell_type": "code",
      "metadata": {
        "colab": {
          "base_uri": "https://localhost:8080/",
          "height": 47
        },
        "id": "a_-fAGFI9twz",
        "outputId": "477ab437-1b90-40f6-ec0a-0ec374ef6d78"
      },
      "source": [
        "df[df.duplicated()]  ##no duplicates"
      ],
      "execution_count": 25,
      "outputs": [
        {
          "output_type": "execute_result",
          "data": {
            "text/html": [
              "<div>\n",
              "<style scoped>\n",
              "    .dataframe tbody tr th:only-of-type {\n",
              "        vertical-align: middle;\n",
              "    }\n",
              "\n",
              "    .dataframe tbody tr th {\n",
              "        vertical-align: top;\n",
              "    }\n",
              "\n",
              "    .dataframe thead th {\n",
              "        text-align: right;\n",
              "    }\n",
              "</style>\n",
              "<table border=\"1\" class=\"dataframe\">\n",
              "  <thead>\n",
              "    <tr style=\"text-align: right;\">\n",
              "      <th></th>\n",
              "      <th>Question</th>\n",
              "      <th>Answer</th>\n",
              "    </tr>\n",
              "  </thead>\n",
              "  <tbody>\n",
              "  </tbody>\n",
              "</table>\n",
              "</div>"
            ],
            "text/plain": [
              "Empty DataFrame\n",
              "Columns: [Question, Answer]\n",
              "Index: []"
            ]
          },
          "metadata": {
            "tags": []
          },
          "execution_count": 25
        }
      ]
    },
    {
      "cell_type": "markdown",
      "metadata": {
        "id": "D5QF9kQ8_Het"
      },
      "source": [
        "## Knowledge Competition Application"
      ]
    },
    {
      "cell_type": "code",
      "metadata": {
        "id": "JXh4oVDT_w3Y"
      },
      "source": [
        "import random"
      ],
      "execution_count": 26,
      "outputs": []
    },
    {
      "cell_type": "code",
      "metadata": {
        "id": "F51RoMqd_4eA"
      },
      "source": [
        "def knowledgeCompetition():\n",
        "  #select 10 questions randomly\n",
        "  quest_list = []\n",
        "  for i in range(10):\n",
        "    num = random.randint(0,df.shape[0]-1)\n",
        "    quest_list.append(num)  \n",
        "\n",
        "  #Ask questions\n",
        "  score = 0\n",
        "  correctCounter=0\n",
        "  for i,k in enumerate(quest_list):\n",
        "    print(\"{} . {}\".format(i+1,df[\"Question\"][k]))\n",
        "    answer = input(\"Cevap: \")\n",
        "    if df[\"Answer\"][k] == answer: #answers will be case-sensitive, so not converted lower/upper case respectively. \n",
        "      print(\"Doğru :)\")\n",
        "      score+=10\n",
        "      correctCounter+=1\n",
        "    else:\n",
        "      print(\"Yanlış :(\")\n",
        "  print(\"Toplam puanın: {}\".format(score))\n",
        "  if correctCounter<=5: #if the user aswers 5 or fever questions, loses\n",
        "    print(\"Malesef oyunu kaybettin :(\")\n",
        "  else:\n",
        "      print(\"TEBRİKLER, KAZANDIN !\")\n",
        "  yn = input(\"Doğru cevapları görmek ister misin? (Y/N)\")\n",
        "  if yn == 'Y':\n",
        "    print(df.loc[quest_list,:])\n",
        "\n"
      ],
      "execution_count": 44,
      "outputs": []
    },
    {
      "cell_type": "code",
      "metadata": {
        "colab": {
          "base_uri": "https://localhost:8080/"
        },
        "id": "TspmA_tO_j0W",
        "outputId": "c06e5576-f6a3-415c-9678-237692f12bd6"
      },
      "source": [
        "knowledgeCompetition() "
      ],
      "execution_count": 45,
      "outputs": [
        {
          "output_type": "stream",
          "text": [
            "1 . Kapı kolu? Eski evlerin girişlerine asılan, zilden önce sıkça kullandığımız, her biri sanat eseri gibi demir ve dökümden yapılan bir araç\n",
            "Cevap: kapı kolu\n",
            "Yanlış :(\n",
            "2 . Suçluların yakalanmasında kullanılan en önemli delillerden biridir, suçlunun geride bıraktığı iz? \n",
            "Cevap: delil\n",
            "Yanlış :(\n",
            "3 . Karadeniz, İç Anadolu, Ege ve Marmara bölgelerinde şehirlere kasabalara yakın yerlerde senede bir kez yüz yıllardır kurulan devasa pazar ve eğlence yerlerine ne ad verilir?\n",
            "Cevap: yayla\n",
            "Yanlış :(\n",
            "4 . Halı ve kilim dokuma tezgahlarının ortak adıdır. Hala Anadoluda pek çok yerde en güzel halı ve kilimler bu tezgahlarda dokunur. Adı nedir?\n",
            "Cevap: İsdar\n",
            "Yanlış :(\n",
            "5 . Rusya'nın Başkenti Moskova'da devletin resmi işlerinin de yürütüldüğü ünlü kızıl renkli görkemli sarayının adı nedir?\n",
            "Cevap: Kremlin\n",
            "Yanlış :(\n",
            "6 . Dört tarafı denizle çevrili kara parçasına ada denir? Peki üç tarafı deniz ya da göl suları ile çevrili kara parçasının adı nedir?\n",
            "Cevap: Yarımada\n",
            "Yanlış :(\n",
            "7 . Savaşlarda düşmandan elde edilen eşya araç ve başka mallara ne ad verilir?\n",
            "Cevap: Ganimet\n",
            "Doğru :)\n",
            "8 . Otomobilin hareket etmeden stabil çalışma şekline ne ad verilir?\n",
            "Cevap: Rolanti\n",
            "Yanlış :(\n",
            "9 . Kız Kalesi hangi ilimizdedir\n",
            "Cevap: Mersin\n",
            "Yanlış :(\n",
            "10 . Üniversite giriş sınavının adı nedir?\n",
            "Cevap: YKS\n",
            "Yanlış :(\n",
            "Toplam puanın: 10\n",
            "Malesef oyunu kaybettin :(\n",
            "Doğru cevapları görmek ister misin? (Y/N)Y\n",
            "                                             Question                                 Answer\n",
            "16  Kapı kolu? Eski evlerin girişlerine asılan, zi...                                 Tokmak\n",
            "3   Suçluların yakalanmasında kullanılan en önemli...                             Parmak izi\n",
            "49  Karadeniz, İç Anadolu, Ege ve Marmara bölgeler...                                Panayır\n",
            "56  Halı ve kilim dokuma tezgahlarının ortak adıdı...                                  Istar\n",
            "37  Rusya'nın Başkenti Moskova'da devletin resmi i...                                Ramazan\n",
            "21  Dört tarafı denizle çevrili kara parçasına ada...                              Yarım Ada\n",
            "76  Savaşlarda düşmandan elde edilen eşya araç ve ...                                Ganimet\n",
            "38  Otomobilin hareket etmeden stabil çalışma şekl...                      Rolantide çalışma\n",
            "32                       Kız Kalesi hangi ilimizdedir                          Mersin (İçel)\n",
            "47              Üniversite giriş sınavının adı nedir?  YKS (Yüksek Öğretim Kurumları Sınavı)\n"
          ],
          "name": "stdout"
        }
      ]
    }
  ]
}