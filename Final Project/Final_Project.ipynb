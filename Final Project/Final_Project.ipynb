{
  "nbformat": 4,
  "nbformat_minor": 0,
  "metadata": {
    "colab": {
      "name": "Final Project.ipynb",
      "provenance": [],
      "collapsed_sections": []
    },
    "kernelspec": {
      "name": "python3",
      "display_name": "Python 3"
    },
    "language_info": {
      "name": "python"
    }
  },
  "cells": [
    {
      "cell_type": "markdown",
      "metadata": {
        "id": "TMO6COrcOpGB"
      },
      "source": [
        "### **Final Project:  Knowledge competition**"
      ]
    },
    {
      "cell_type": "markdown",
      "metadata": {
        "id": "CIacfKOa_V9y"
      },
      "source": [
        "# Creating Data Source"
      ]
    },
    {
      "cell_type": "markdown",
      "metadata": {
        "id": "sm7bi5h9RUSj"
      },
      "source": [
        "I take the questions from a random webpage that I found a simple Google Search \"Bilgi Yarışması Soru ve Cevapları\""
      ]
    },
    {
      "cell_type": "markdown",
      "metadata": {
        "id": "ataQuREKRtC1"
      },
      "source": [
        "Take questions using web scrabing"
      ]
    },
    {
      "cell_type": "code",
      "metadata": {
        "id": "FGrmRPtrOthC"
      },
      "source": [
        "#import necessary libraries for web scrabing\n",
        "import requests as req\n",
        "from bs4 import BeautifulSoup as bs"
      ],
      "execution_count": 3,
      "outputs": []
    },
    {
      "cell_type": "code",
      "metadata": {
        "id": "FPqtY9QeRoN2"
      },
      "source": [
        "url = 'https://www.iyigunler.net/nedir/bilgi-yarismasi-soru-ve-cevaplari-kolay-sorular-kolay-cevaplar-h341280.html'"
      ],
      "execution_count": 5,
      "outputs": []
    },
    {
      "cell_type": "code",
      "metadata": {
        "id": "3my8F09uR5_J"
      },
      "source": [
        "req = req.get(url)\n",
        "soup = bs(req.content)"
      ],
      "execution_count": 6,
      "outputs": []
    },
    {
      "cell_type": "code",
      "metadata": {
        "id": "VgMRWdtpR6H6"
      },
      "source": [
        "page = soup.find(\"div\", attrs={\"id\":\"newsbody\"})"
      ],
      "execution_count": 7,
      "outputs": []
    },
    {
      "cell_type": "code",
      "metadata": {
        "id": "8suxPORxUQB6"
      },
      "source": [
        "page #result line is hided"
      ],
      "execution_count": null,
      "outputs": []
    },
    {
      "cell_type": "markdown",
      "metadata": {
        "id": "_0LXw5NzTdh5"
      },
      "source": [
        "There are plenty of questions and answers. I noticed that answers are between tags `<strong>` but questions not. So, we can seperate them and add them in to a Dictionary"
      ]
    },
    {
      "cell_type": "code",
      "metadata": {
        "id": "BErlwl2mUsxj"
      },
      "source": [
        "questions =  page.find_all(\"p\")[4:]"
      ],
      "execution_count": 9,
      "outputs": []
    },
    {
      "cell_type": "code",
      "metadata": {
        "colab": {
          "base_uri": "https://localhost:8080/"
        },
        "id": "Se-I-AplW_2x",
        "outputId": "955783d2-94ca-4992-862f-e0f528116e15"
      },
      "source": [
        "questions[0]"
      ],
      "execution_count": 10,
      "outputs": [
        {
          "output_type": "execute_result",
          "data": {
            "text/plain": [
              "<p><br/>\n",
              "Tarihin sıfır noktası olarak bilinen, insanlık tarihinin ilk somut kalıntılarının bulunduğu Göbekli tepe hangi ilimizdedir?</p>"
            ]
          },
          "metadata": {
            "tags": []
          },
          "execution_count": 10
        }
      ]
    },
    {
      "cell_type": "code",
      "metadata": {
        "id": "4jW7Em4QYQJB"
      },
      "source": [
        "questionsList = {}\n",
        "question =\"\"\n",
        "answer=\"\"\n",
        "for q in questions:\n",
        "  if q.find(\"strong\") != None:\n",
        "    answer = q.find_all(\"strong\")[0].get_text().replace(\"\\n\\xa0\", \"\").replace(\"?\",\"\").replace(\"\\n\",\"\").replace(\"\\xa0\", \"\")\n",
        "  else :\n",
        "    question =  q.get_text().replace(\"\\n\\xa0\", \"\").replace(\"\\n\",\"\").replace(\"\\xa0\", \"\")\n",
        "  questionsList[question]  = answer\n",
        "  \n"
      ],
      "execution_count": 72,
      "outputs": []
    },
    {
      "cell_type": "code",
      "metadata": {
        "id": "j9tfV_gncib4"
      },
      "source": [
        "#There are few problems with the result, in first line there is only answer, and for the second questions there more than pne answers, I will delete these lines\n",
        "questionsList #result line is hided"
      ],
      "execution_count": null,
      "outputs": []
    },
    {
      "cell_type": "code",
      "metadata": {
        "id": "WzIN6-zv9K31"
      },
      "source": [
        "del questionsList[\"(At üstünde akıncılarımız havada kavisler çizerek düşmanın kalkanını direnişini kırmak için bu silahı kullanırdı)\"]\n",
        "del questionsList[\"Rusya'nın Başkenti Moskova'da devletin resmi işlerinin de yürütüldüğü ünlü kızıl renkli görkemli sarayının adı nedir?\"]"
      ],
      "execution_count": 74,
      "outputs": []
    },
    {
      "cell_type": "code",
      "metadata": {
        "id": "DWVRkUlD9Un5"
      },
      "source": [
        "del questionsList[\"\"]"
      ],
      "execution_count": 75,
      "outputs": []
    },
    {
      "cell_type": "markdown",
      "metadata": {
        "id": "kmueTWc8-0E5"
      },
      "source": [
        "Convert dictionary to pandas DataFrame for analyzing the data more efficiently"
      ]
    },
    {
      "cell_type": "code",
      "metadata": {
        "id": "OEcgJIYNezDo"
      },
      "source": [
        "import pandas as pd"
      ],
      "execution_count": 54,
      "outputs": []
    },
    {
      "cell_type": "code",
      "metadata": {
        "id": "KhckYkHlfAmd"
      },
      "source": [
        "df = pd.DataFrame(columns=[\"Question\", \"Answer\"])"
      ],
      "execution_count": 76,
      "outputs": []
    },
    {
      "cell_type": "code",
      "metadata": {
        "id": "uBERUfhX6vaK"
      },
      "source": [
        "df[\"Question\"] = questionsList.keys()"
      ],
      "execution_count": 77,
      "outputs": []
    },
    {
      "cell_type": "code",
      "metadata": {
        "id": "TjSQ6ARu6voP"
      },
      "source": [
        "df[\"Answer\"] = questionsList.values()"
      ],
      "execution_count": 78,
      "outputs": []
    },
    {
      "cell_type": "code",
      "metadata": {
        "colab": {
          "base_uri": "https://localhost:8080/",
          "height": 197
        },
        "id": "Du0TFrUu8z05",
        "outputId": "b020717e-9160-48f9-bead-0e38c63e3c13"
      },
      "source": [
        "df.head()"
      ],
      "execution_count": 79,
      "outputs": [
        {
          "output_type": "execute_result",
          "data": {
            "text/html": [
              "<div>\n",
              "<style scoped>\n",
              "    .dataframe tbody tr th:only-of-type {\n",
              "        vertical-align: middle;\n",
              "    }\n",
              "\n",
              "    .dataframe tbody tr th {\n",
              "        vertical-align: top;\n",
              "    }\n",
              "\n",
              "    .dataframe thead th {\n",
              "        text-align: right;\n",
              "    }\n",
              "</style>\n",
              "<table border=\"1\" class=\"dataframe\">\n",
              "  <thead>\n",
              "    <tr style=\"text-align: right;\">\n",
              "      <th></th>\n",
              "      <th>Question</th>\n",
              "      <th>Answer</th>\n",
              "    </tr>\n",
              "  </thead>\n",
              "  <tbody>\n",
              "    <tr>\n",
              "      <th>0</th>\n",
              "      <td>Tarihin sıfır noktası olarak bilinen, insanlık...</td>\n",
              "      <td>Şanlıurfa</td>\n",
              "    </tr>\n",
              "    <tr>\n",
              "      <th>1</th>\n",
              "      <td>Tarihin bir başka dönüm noktası olarak gösteri...</td>\n",
              "      <td>Milenyum Taşı</td>\n",
              "    </tr>\n",
              "    <tr>\n",
              "      <th>2</th>\n",
              "      <td>Dünyanın en büyük deniz kazalarından biri olar...</td>\n",
              "      <td></td>\n",
              "    </tr>\n",
              "    <tr>\n",
              "      <th>3</th>\n",
              "      <td>Düğünlerde şölenlerde davulla birlikte çalınan...</td>\n",
              "      <td>Zurna</td>\n",
              "    </tr>\n",
              "    <tr>\n",
              "      <th>4</th>\n",
              "      <td>Suçluların yakalanmasında kullanılan en önemli...</td>\n",
              "      <td>Parmak izi</td>\n",
              "    </tr>\n",
              "  </tbody>\n",
              "</table>\n",
              "</div>"
            ],
            "text/plain": [
              "                                            Question         Answer\n",
              "0  Tarihin sıfır noktası olarak bilinen, insanlık...      Şanlıurfa\n",
              "1  Tarihin bir başka dönüm noktası olarak gösteri...  Milenyum Taşı\n",
              "2  Dünyanın en büyük deniz kazalarından biri olar...               \n",
              "3  Düğünlerde şölenlerde davulla birlikte çalınan...          Zurna\n",
              "4  Suçluların yakalanmasında kullanılan en önemli...     Parmak izi"
            ]
          },
          "metadata": {
            "tags": []
          },
          "execution_count": 79
        }
      ]
    },
    {
      "cell_type": "markdown",
      "metadata": {
        "id": "fwdL-utp9kXW"
      },
      "source": [
        "Remove null values"
      ]
    },
    {
      "cell_type": "code",
      "metadata": {
        "id": "DjgU3ifC9nMy"
      },
      "source": [
        "index_null = df[df[\"Answer\"]==\"\"].index[0]"
      ],
      "execution_count": 80,
      "outputs": []
    },
    {
      "cell_type": "code",
      "metadata": {
        "id": "hW6HKbBR-et_"
      },
      "source": [
        "df = df.drop(labels=index_null, axis=0).reset_index(drop=True)"
      ],
      "execution_count": 81,
      "outputs": []
    },
    {
      "cell_type": "markdown",
      "metadata": {
        "id": "nUXiVn2vKTGS"
      },
      "source": [
        "Drop duplicates"
      ]
    },
    {
      "cell_type": "code",
      "metadata": {
        "colab": {
          "base_uri": "https://localhost:8080/",
          "height": 47
        },
        "id": "a_-fAGFI9twz",
        "outputId": "440028f2-4a6f-406b-c41a-155d403137d1"
      },
      "source": [
        "df[df.duplicated()]  ##no duplicates"
      ],
      "execution_count": 82,
      "outputs": [
        {
          "output_type": "execute_result",
          "data": {
            "text/html": [
              "<div>\n",
              "<style scoped>\n",
              "    .dataframe tbody tr th:only-of-type {\n",
              "        vertical-align: middle;\n",
              "    }\n",
              "\n",
              "    .dataframe tbody tr th {\n",
              "        vertical-align: top;\n",
              "    }\n",
              "\n",
              "    .dataframe thead th {\n",
              "        text-align: right;\n",
              "    }\n",
              "</style>\n",
              "<table border=\"1\" class=\"dataframe\">\n",
              "  <thead>\n",
              "    <tr style=\"text-align: right;\">\n",
              "      <th></th>\n",
              "      <th>Question</th>\n",
              "      <th>Answer</th>\n",
              "    </tr>\n",
              "  </thead>\n",
              "  <tbody>\n",
              "  </tbody>\n",
              "</table>\n",
              "</div>"
            ],
            "text/plain": [
              "Empty DataFrame\n",
              "Columns: [Question, Answer]\n",
              "Index: []"
            ]
          },
          "metadata": {
            "tags": []
          },
          "execution_count": 82
        }
      ]
    },
    {
      "cell_type": "markdown",
      "metadata": {
        "id": "D5QF9kQ8_Het"
      },
      "source": [
        "## Knowledge Competition Application"
      ]
    },
    {
      "cell_type": "code",
      "metadata": {
        "id": "JXh4oVDT_w3Y"
      },
      "source": [
        "import random"
      ],
      "execution_count": 26,
      "outputs": []
    },
    {
      "cell_type": "code",
      "metadata": {
        "id": "F51RoMqd_4eA"
      },
      "source": [
        "def knowledgeCompetition():\n",
        "  #select 10 questions randomly\n",
        "  quest_list = []\n",
        "  for i in range(10):\n",
        "    num = random.randint(0,df.shape[0]-1)\n",
        "    quest_list.append(num)  \n",
        "\n",
        "  #Ask questions\n",
        "  score = 0\n",
        "  correctCounter=0\n",
        "  for i,k in enumerate(quest_list):\n",
        "    print(\"{} . {}\".format(i+1,df[\"Question\"][k]))\n",
        "    answer = input(\"Cevap: \")\n",
        "    if df[\"Answer\"][k] == answer: #answers will be case-sensitive, so not converted lower/upper case respectively. \n",
        "      print(\"Doğru :)\")\n",
        "      score+=10\n",
        "      correctCounter+=1\n",
        "    else:\n",
        "      print(\"Yanlış :(\")\n",
        "  print(\"Toplam puanın: {}\".format(score))\n",
        "  if correctCounter<=5: #if the user aswers 5 or fever questions, loses\n",
        "    print(\"Malesef oyunu kaybettin :(\")\n",
        "  else:\n",
        "      print(\"TEBRİKLER, KAZANDIN !\")\n",
        "  yn = input(\"Doğru cevapları görmek ister misin? (Y/N)\")\n",
        "  if yn == 'Y':\n",
        "    print(df.loc[quest_list,:])\n",
        "\n"
      ],
      "execution_count": 83,
      "outputs": []
    },
    {
      "cell_type": "code",
      "metadata": {
        "colab": {
          "base_uri": "https://localhost:8080/"
        },
        "id": "TspmA_tO_j0W",
        "outputId": "afea13a0-105a-4e92-cf33-4e1e6894ca06"
      },
      "source": [
        "knowledgeCompetition() "
      ],
      "execution_count": 89,
      "outputs": [
        {
          "output_type": "stream",
          "text": [
            "1 . Osmanlı'da iftar davetlerinde konuklara \"diş kirasi\" adı ile iftarda bağışlanan para veya hediyeye ne ad verilir.\n",
            "Cevap: İftariye\n",
            "Doğru :)\n",
            "2 . (Peri bacaları ve Ihlara Vadisiyle ünlü bir bölgemiz)\n",
            "Cevap: Kapadokya\n",
            "Doğru :)\n",
            "3 . Kapı önünde bulunan basamağa ne ad verilir?\n",
            "Cevap: Eşik\n",
            "Doğru :)\n",
            "4 . Müsade, izin veya ruhsat!\n",
            "Cevap: Destur\n",
            "Doğru :)\n",
            "5 . Savaşlarda düşmandan elde edilen eşya araç ve başka mallara ne ad verilir?\n",
            "Cevap: Ganimet\n",
            "Doğru :)\n",
            "6 . Resmi konukları ağırlamak ve onlara kılavuzluk etmekle gorevlendirilen kimse, konukcu\n",
            "Cevap: ev sahibi\n",
            "Yanlış :(\n",
            "7 . Taşınmaz mülklerin hayır, eğitim ve sağlık işlerinde kullanılması şartıyla bağışlandığı kurumların ortak adı nedir?\n",
            "Cevap: Vakıf\n",
            "Doğru :)\n",
            "8 . Küçük ve büyükbaş hayvanların kesim için götürüldüğü yer\n",
            "Cevap: Mezbaha\n",
            "Doğru :)\n",
            "9 . Yerel seçimler kaç yılda bir yapılır?\n",
            "Cevap: 5\n",
            "Doğru :)\n",
            "10 . Lakin ve fakatın eş anlamlısı\n",
            "Cevap: Ama\n",
            "Doğru :)\n",
            "Toplam puanın: 90\n",
            "TEBRİKLER, KAZANDIN !\n",
            "Doğru cevapları görmek ister misin? (Y/N)Y\n",
            "                                             Question     Answer\n",
            "68  Osmanlı'da iftar davetlerinde konuklara \"diş k...   İftariye\n",
            "52  (Peri bacaları ve Ihlara Vadisiyle ünlü bir bö...  Kapadokya\n",
            "27        Kapı önünde bulunan basamağa ne ad verilir?       Eşik\n",
            "7                           Müsade, izin veya ruhsat!     Destur\n",
            "75  Savaşlarda düşmandan elde edilen eşya araç ve ...    Ganimet\n",
            "69  Resmi konukları ağırlamak ve onlara kılavuzluk...  Mihmandar\n",
            "56  Taşınmaz mülklerin hayır, eğitim ve sağlık işl...      Vakıf\n",
            "15  Küçük ve büyükbaş hayvanların kesim için götür...    Mezbaha\n",
            "57              Yerel seçimler kaç yılda bir yapılır?          5\n",
            "8                       Lakin ve fakatın eş anlamlısı        Ama\n"
          ],
          "name": "stdout"
        }
      ]
    }
  ]
}
